{
  "nbformat": 4,
  "nbformat_minor": 0,
  "metadata": {
    "colab": {
      "name": "LSTM.ipynb",
      "version": "0.3.2",
      "provenance": [],
      "collapsed_sections": [],
      "include_colab_link": true
    },
    "language_info": {
      "codemirror_mode": {
        "name": "ipython",
        "version": 3
      },
      "file_extension": ".py",
      "mimetype": "text/x-python",
      "name": "python",
      "nbconvert_exporter": "python",
      "pygments_lexer": "ipython3",
      "version": "3.7.1"
    },
    "kernelspec": {
      "name": "python3",
      "display_name": "Python 3"
    },
    "accelerator": "GPU"
  },
  "cells": [
    {
      "cell_type": "markdown",
      "metadata": {
        "id": "view-in-github",
        "colab_type": "text"
      },
      "source": [
        "<a href=\"https://colab.research.google.com/github/xiangshuijiao/test/blob/master/LSTM.ipynb\" target=\"_parent\"><img src=\"https://colab.research.google.com/assets/colab-badge.svg\" alt=\"Open In Colab\"/></a>"
      ]
    },
    {
      "cell_type": "markdown",
      "metadata": {
        "id": "SHi_Fmz-ccUE",
        "colab_type": "text"
      },
      "source": [
        "# <a title=\"Activity Recognition\" href=\"https://github.com/guillaume-chevalier/LSTM-Human-Activity-Recognition\" > LSTMs for Human Activity Recognition</a>\n",
        "\n",
        "Human Activity Recognition (HAR) using smartphones dataset and an LSTM RNN. Classifying the type of movement amongst six categories:\n",
        "- WALKING,\n",
        "- WALKING_UPSTAIRS,\n",
        "- WALKING_DOWNSTAIRS,\n",
        "- SITTING,\n",
        "- STANDING,\n",
        "- LAYING.\n",
        "\n",
        "Compared to a classical approach, using a Recurrent Neural Networks (RNN) with Long Short-Term Memory cells (LSTMs) require no or almost no feature engineering. Data can be fed directly into the neural network who acts like a black box, modeling the problem correctly. [Other research](https://archive.ics.uci.edu/ml/machine-learning-databases/00240/UCI%20HAR%20Dataset.names) on the activity recognition dataset can use a big amount of feature engineering, which is rather a signal processing approach combined with classical data science techniques. The approach here is rather very simple in terms of how much was the data preprocessed. \n",
        "\n",
        "Let's use Google's neat Deep Learning library, TensorFlow, demonstrating the usage of an LSTM, a type of Artificial Neural Network that can process sequential data / time series. \n",
        "\n",
        "## Video dataset overview\n",
        "\n",
        "Follow this link to see a video of the 6 activities recorded in the experiment with one of the participants:\n",
        "\n",
        "<p align=\"center\">\n",
        "  <a href=\"http://www.youtube.com/watch?feature=player_embedded&v=XOEN9W05_4A\n",
        "\" target=\"_blank\"><img src=\"http://img.youtube.com/vi/XOEN9W05_4A/0.jpg\" \n",
        "alt=\"Video of the experiment\" width=\"400\" height=\"300\" border=\"10\" /></a>\n",
        "  <a href=\"https://youtu.be/XOEN9W05_4A\"><center>[Watch video]</center></a>\n",
        "</p>\n",
        "\n",
        "## Details about the input data\n",
        "\n",
        "I will be using an LSTM on the data to learn (as a cellphone attached on the waist) to recognise the type of activity that the user is doing. The dataset's description goes like this:\n",
        "\n",
        "> The sensor signals (accelerometer and gyroscope) were pre-processed by applying noise filters and then sampled in fixed-width sliding windows of 2.56 sec and 50% overlap (128 readings/window). The sensor acceleration signal, which has gravitational and body motion components, was separated using a Butterworth low-pass filter into body acceleration and gravity. The gravitational force is assumed to have only low frequency components, therefore a filter with 0.3 Hz cutoff frequency was used. \n",
        "\n",
        "That said, I will use the almost raw data: only the gravity effect has been filtered out of the accelerometer  as a preprocessing step for another 3D feature as an input to help learning. If you'd ever want to extract the gravity by yourself, you could fork my code on using a [Butterworth Low-Pass Filter (LPF) in Python](https://github.com/guillaume-chevalier/filtering-stft-and-laplace-transform) and edit it to have the right cutoff frequency of 0.3 Hz which is a good frequency for activity recognition from body sensors.\n",
        "\n",
        "## What is an RNN?\n",
        "\n",
        "As explained in [this article](http://karpathy.github.io/2015/05/21/rnn-effectiveness/), an RNN takes many input vectors to process them and output other vectors. It can be roughly pictured like in the image below, imagining each rectangle has a vectorial depth and other special hidden quirks in the image below. **In our case, the \"many to one\" architecture is used**: we accept time series of [feature vectors](https://www.quora.com/What-do-samples-features-time-steps-mean-in-LSTM/answer/Guillaume-Chevalier-2) (one vector per [time step](https://www.quora.com/What-do-samples-features-time-steps-mean-in-LSTM/answer/Guillaume-Chevalier-2)) to convert them to a probability vector at the output for classification. Note that a \"one to one\" architecture would be a standard feedforward neural network. \n",
        "\n",
        "> <a href=\"http://karpathy.github.io/2015/05/21/rnn-effectiveness/\" ><img src=\"http://karpathy.github.io/assets/rnn/diags.jpeg\" /></a>\n",
        "> http://karpathy.github.io/2015/05/21/rnn-effectiveness/\n",
        "\n",
        "## What is an LSTM?\n",
        "\n",
        "An LSTM is an improved RNN. It is more complex, but easier to train, avoiding what is called the vanishing gradient problem. I recommend [this article](http://colah.github.io/posts/2015-08-Understanding-LSTMs/) for you to learn more on LSTMs.\n",
        "\n",
        "\n",
        "## Results \n",
        "\n",
        "Scroll on! Nice visuals awaits. "
      ]
    },
    {
      "cell_type": "code",
      "metadata": {
        "id": "g8HIXQ73f2aJ",
        "colab_type": "code",
        "colab": {}
      },
      "source": [
        "# !apt-get install -y -qq software-properties-common python-software-properties module-init-tools\n",
        "# !add-apt-repository -y ppa:alessandro-strada/ppa 2>&1 > /dev/null\n",
        "# !apt-get update -qq 2>&1 > /dev/null\n",
        "# !apt-get -y install -qq google-drive-ocamlfuse fuse\n",
        "# from google.colab import auth\n",
        "# auth.authenticate_user()\n",
        "# from oauth2client.client import GoogleCredentials\n",
        "# creds = GoogleCredentials.get_application_default()\n",
        "# import getpass\n",
        "# !google-drive-ocamlfuse -headless -id={creds.client_id} -secret={creds.client_secret} < /dev/null 2>&1 | grep URL\n",
        "# vcode = getpass.getpass()\n",
        "# !echo {vcode} | google-drive-ocamlfuse -headless -id={creds.client_id} -secret={creds.client_secret}"
      ],
      "execution_count": 0,
      "outputs": []
    },
    {
      "cell_type": "code",
      "metadata": {
        "id": "A9SpKncBqPdw",
        "colab_type": "code",
        "colab": {}
      },
      "source": [
        "# !mkdir -p drive\n",
        "# from google.colab import drive\n",
        "# drive.mount('/drive')"
      ],
      "execution_count": 0,
      "outputs": []
    },
    {
      "cell_type": "code",
      "metadata": {
        "id": "6crXLbckccUF",
        "colab_type": "code",
        "colab": {}
      },
      "source": [
        "# All Includes\n",
        "\n",
        "import numpy as np\n",
        "import matplotlib\n",
        "import matplotlib.pyplot as plt\n",
        "import tensorflow as tf  # Version 1.0.0 (some previous versions are used in past commits)\n",
        "from sklearn import metrics\n",
        "\n",
        "import os"
      ],
      "execution_count": 0,
      "outputs": []
    },
    {
      "cell_type": "code",
      "metadata": {
        "id": "cAmrRDaXccUH",
        "colab_type": "code",
        "colab": {}
      },
      "source": [
        "# Useful Constants\n",
        "\n",
        "# Those are separate normalised input features for the neural network\n",
        "INPUT_SIGNAL_TYPES = [\n",
        "    \"body_acc_x_\",\n",
        "    \"body_acc_y_\",\n",
        "    \"body_acc_z_\",\n",
        "    \"body_gyro_x_\",\n",
        "    \"body_gyro_y_\",\n",
        "    \"body_gyro_z_\",\n",
        "    \"total_acc_x_\",\n",
        "    \"total_acc_y_\",\n",
        "    \"total_acc_z_\"\n",
        "]\n",
        "\n",
        "# Output classes to learn how to classify\n",
        "LABELS = [\n",
        "    \"WALKING\", \n",
        "    \"WALKING_UPSTAIRS\", \n",
        "    \"WALKING_DOWNSTAIRS\", \n",
        "    \"SITTING\", \n",
        "    \"STANDING\", \n",
        "    \"LAYING\"\n",
        "] "
      ],
      "execution_count": 0,
      "outputs": []
    },
    {
      "cell_type": "markdown",
      "metadata": {
        "id": "uHDwxgkgccUJ",
        "colab_type": "text"
      },
      "source": [
        "## Let's start by downloading the data: "
      ]
    },
    {
      "cell_type": "code",
      "metadata": {
        "id": "zbkjGnouccUK",
        "colab_type": "code",
        "outputId": "e81d0041-b7d2-4bbf-c43b-c08bad2e45ad",
        "colab": {
          "base_uri": "https://localhost:8080/",
          "height": 377
        }
      },
      "source": [
        "# Note: Linux bash commands start with a \"!\" inside those \"ipython notebook\" cells\n",
        "\n",
        "DATA_PATH = \"/drive/My Drive/Colab/data/\"\n",
        "\n",
        "!pwd && ls\n",
        "os.chdir(DATA_PATH)\n",
        "!pwd && ls\n",
        "\n",
        "!python download_dataset.py\n",
        "\n",
        "!pwd && ls\n",
        "os.chdir(\"..\")\n",
        "!pwd && ls\n",
        "\n",
        "DATASET_PATH = DATA_PATH + \"UCI HAR Dataset/\"\n",
        "print(\"\\n\" + \"Dataset is now located at: \" + DATASET_PATH)\n"
      ],
      "execution_count": 5,
      "outputs": [
        {
          "output_type": "stream",
          "text": [
            "/content\n",
            "adc.json  drive  sample_data\n",
            "/drive/My Drive/Colab/data\n",
            " download_dataset.py   source.txt\t 'UCI HAR Dataset2'\n",
            " __MACOSX\t      'UCI HAR Dataset'  'UCI HAR Dataset.zip'\n",
            "\n",
            "Downloading...\n",
            "Dataset already downloaded. Did not download twice.\n",
            "\n",
            "Extracting...\n",
            "Dataset already extracted. Did not extract twice.\n",
            "\n",
            "/drive/My Drive/Colab/data\n",
            " download_dataset.py   source.txt\t 'UCI HAR Dataset2'\n",
            " __MACOSX\t      'UCI HAR Dataset'  'UCI HAR Dataset.zip'\n",
            "/drive/My Drive/Colab\n",
            "data   LICENSE\t\t LSTM_files  numpy.txt\tsave_lstm\n",
            "drive  LSTM-Copy1.ipynb  LSTM.ipynb  README.md\tUntitled.ipynb\n",
            "\n",
            "Dataset is now located at: /drive/My Drive/Colab/data/UCI HAR Dataset/\n"
          ],
          "name": "stdout"
        }
      ]
    },
    {
      "cell_type": "markdown",
      "metadata": {
        "id": "csihvoZjccUN",
        "colab_type": "text"
      },
      "source": [
        "## Preparing dataset:"
      ]
    },
    {
      "cell_type": "code",
      "metadata": {
        "id": "shAzN9omccUO",
        "colab_type": "code",
        "colab": {}
      },
      "source": [
        "TRAIN = \"train/\"\n",
        "TEST = \"test/\"\n",
        "\n",
        "\n",
        "# Load \"X\" (the neural network's training and testing inputs)\n",
        "\n",
        "def load_X(X_signals_paths):\n",
        "    X_signals = []\n",
        "    \n",
        "    for signal_type_path in X_signals_paths:\n",
        "        file = open(signal_type_path, 'r')\n",
        "        # Read dataset from disk, dealing with text files' syntax\n",
        "        X_signals.append(\n",
        "            [np.array(serie, dtype=np.float32) for serie in [\n",
        "                row.split() for row in file\n",
        "            ]]\n",
        "        )\n",
        "        file.close()\n",
        "    \n",
        "    return np.transpose(np.array(X_signals), (1, 2, 0))\n",
        "\n",
        "X_train_signals_paths = [\n",
        "    DATASET_PATH + TRAIN + \"Inertial Signals/\" + signal + \"train.txt\" for signal in INPUT_SIGNAL_TYPES\n",
        "]\n",
        "X_test_signals_paths = [\n",
        "    DATASET_PATH + TEST + \"Inertial Signals/\" + signal + \"test.txt\" for signal in INPUT_SIGNAL_TYPES\n",
        "]\n",
        "\n",
        "X_train = load_X(X_train_signals_paths)\n",
        "X_test = load_X(X_test_signals_paths)\n",
        "\n",
        "\n",
        "# Load \"y\" (the neural network's training and testing outputs)\n",
        "\n",
        "def load_y(y_path):\n",
        "    file = open(y_path, 'r')\n",
        "    # Read dataset from disk, dealing with text file's syntax\n",
        "    y_ = np.array(\n",
        "        [elem for elem in [\n",
        "            row.replace('  ', ' ').strip().split(' ') for row in file\n",
        "        ]], \n",
        "        dtype=np.int32\n",
        "    )\n",
        "    file.close()\n",
        "    \n",
        "    # Substract 1 to each output class for friendly 0-based indexing \n",
        "    return y_ - 1\n",
        "\n",
        "y_train_path = DATASET_PATH + TRAIN + \"y_train.txt\"\n",
        "y_test_path = DATASET_PATH + TEST + \"y_test.txt\"\n",
        "\n",
        "y_train = load_y(y_train_path)\n",
        "y_test = load_y(y_test_path)\n"
      ],
      "execution_count": 0,
      "outputs": []
    },
    {
      "cell_type": "code",
      "metadata": {
        "id": "rA1jghBGccUQ",
        "colab_type": "code",
        "outputId": "dc1e5b72-1682-4e73-f991-d77f5a123ef9",
        "colab": {
          "base_uri": "https://localhost:8080/",
          "height": 35
        }
      },
      "source": [
        "\n",
        "np.set_printoptions(threshold=np.inf)\n",
        "tf.test.gpu_device_name()  # 验证使用的是否是GPU    "
      ],
      "execution_count": 7,
      "outputs": [
        {
          "output_type": "execute_result",
          "data": {
            "text/plain": [
              "'/device:GPU:0'"
            ]
          },
          "metadata": {
            "tags": []
          },
          "execution_count": 7
        }
      ]
    },
    {
      "cell_type": "markdown",
      "metadata": {
        "id": "on73NFtuccUR",
        "colab_type": "text"
      },
      "source": [
        "## Additionnal Parameters:\n",
        "\n",
        "Here are some core parameter definitions for the training. \n",
        "\n",
        "For example, the whole neural network's structure could be summarised by enumerating those parameters and the fact that two LSTM are used one on top of another (stacked) output-to-input as hidden layers through time steps. "
      ]
    },
    {
      "cell_type": "code",
      "metadata": {
        "id": "hnKlw7Q2ccUS",
        "colab_type": "code",
        "outputId": "a66a2462-49bf-4fa2-97e0-bf4e3fd692ed",
        "colab": {
          "base_uri": "https://localhost:8080/",
          "height": 89
        }
      },
      "source": [
        "# Input Data \n",
        "\n",
        "training_data_count = len(X_train)  # 7352 training series (with 50% overlap between each serie)\n",
        "test_data_count = len(X_test)  # 2947 testing series\n",
        "n_steps = len(X_train[0])  # 128 timesteps per series\n",
        "n_input = len(X_train[0][0])  # 9 input parameters per timestep 输入层有9*128个结点\n",
        "\n",
        "\n",
        "# LSTM Neural Network's internal structure\n",
        "\n",
        "n_hidden = 32 # Hidden layer num of features  隐藏层有32个结点， 我改为300试试看看是否欠拟合（已经修改了依然不行）\n",
        "n_classes = 6 # Total classes (should go up, or should go down) 输出层有6个结点\n",
        "\n",
        "\n",
        "# Training \n",
        "\n",
        "learning_rate = 0.0025\n",
        "lambda_loss_amount = 0.0015\n",
        "training_iters = training_data_count * 300  # Loop 300 times on the dataset\n",
        "batch_size = 1500\n",
        "display_iter = 30000  # To show test set accuracy during training\n",
        "\n",
        "\n",
        "# Some debugging info\n",
        "\n",
        "print(\"Some useful info to get an insight on dataset's shape and normalisation:\")\n",
        "print(\"(X shape, y shape, every X's mean, every X's standard deviation)\")\n",
        "print(X_test.shape, y_test.shape, np.mean(X_test), np.std(X_test))\n",
        "print(\"The dataset is therefore properly normalised, as expected, but not yet one-hot encoded.\")\n"
      ],
      "execution_count": 8,
      "outputs": [
        {
          "output_type": "stream",
          "text": [
            "Some useful info to get an insight on dataset's shape and normalisation:\n",
            "(X shape, y shape, every X's mean, every X's standard deviation)\n",
            "(1019, 128, 9) (1019, 1) 0.099228784 0.33782852\n",
            "The dataset is therefore properly normalised, as expected, but not yet one-hot encoded.\n"
          ],
          "name": "stdout"
        }
      ]
    },
    {
      "cell_type": "markdown",
      "metadata": {
        "id": "x2IbIshcccUV",
        "colab_type": "text"
      },
      "source": [
        "## Utility functions for training:"
      ]
    },
    {
      "cell_type": "code",
      "metadata": {
        "id": "lm4SPzRiccUW",
        "colab_type": "code",
        "colab": {}
      },
      "source": [
        "def LSTM_RNN(_X, _weights, _biases):\n",
        "    # Function returns a tensorflow LSTM (RNN) artificial neural network from given parameters. \n",
        "    # Moreover, two LSTM cells are stacked which adds deepness to the neural network. \n",
        "    # Note, some code of this notebook is inspired from an slightly different \n",
        "    # RNN architecture used on another dataset, some of the credits goes to \n",
        "    # \"aymericdamien\" under the MIT license.\n",
        "\n",
        "    # (NOTE: This step could be greatly optimised by shaping the dataset once\n",
        "    # input shape: (batch_size, n_steps, n_input)\n",
        "    _X = tf.transpose(_X, [1, 0, 2])  # permute n_steps and batch_size  转置\n",
        "    # Reshape to prepare input to hidden activation\n",
        "    _X = tf.reshape(_X, [-1, n_input])  # 塑形\n",
        "    # new shape: (n_steps*batch_size, n_input)\n",
        "    \n",
        "    # ReLU activation, thanks to Yu Zhao for adding this improvement here:\n",
        "    _X = tf.nn.relu(tf.matmul(_X, _weights['hidden']) + _biases['hidden'])# 激活函数设置为relu函数\n",
        "    # Split data because rnn cell needs a list of inputs for the RNN inner loop\n",
        "    _X = tf.split(_X, n_steps, 0) \n",
        "    # new shape: n_steps * (batch_size, n_hidden)\n",
        "\n",
        "    # Define two stacked LSTM cells (two recurrent layers deep) with tensorflow\n",
        "    lstm_cell_1 = tf.contrib.rnn.BasicLSTMCell(n_hidden, forget_bias=1.0, state_is_tuple=True)\n",
        "    lstm_cell_2 = tf.contrib.rnn.BasicLSTMCell(n_hidden, forget_bias=1.0, state_is_tuple=True)\n",
        "    lstm_cells = tf.contrib.rnn.MultiRNNCell([lstm_cell_1, lstm_cell_2], state_is_tuple=True)\n",
        "    # Get LSTM cell output\n",
        "    outputs, states = tf.contrib.rnn.static_rnn(lstm_cells, _X, dtype=tf.float32)\n",
        "\n",
        "    # Get last time step's output feature for a \"many-to-one\" style classifier, \n",
        "    # as in the image describing RNNs at the top of this page\n",
        "    lstm_last_output = outputs[-1]\n",
        "    \n",
        "    # Linear activation\n",
        "    return tf.matmul(lstm_last_output, _weights['out']) + _biases['out']\n",
        "\n",
        "\n",
        "def extract_batch_size(_train, step, batch_size):\n",
        "    # Function to fetch a \"batch_size\" amount of data from \"(X|y)_train\" data. \n",
        "    \n",
        "    shape = list(_train.shape)\n",
        "    shape[0] = batch_size\n",
        "    batch_s = np.empty(shape)\n",
        "\n",
        "    for i in range(batch_size):\n",
        "        # Loop index\n",
        "        index = ((step-1)*batch_size + i) % len(_train)\n",
        "        batch_s[i] = _train[index] \n",
        "\n",
        "    return batch_s\n",
        "\n",
        "\n",
        "def one_hot(y_, n_classes=n_classes):\n",
        "    # Function to encode neural one-hot output labels from number indexes \n",
        "    # e.g.: \n",
        "    # one_hot(y_=[[5], [0], [3]], n_classes=6):\n",
        "    #     return [[0, 0, 0, 0, 0, 1], [1, 0, 0, 0, 0, 0], [0, 0, 0, 1, 0, 0]]\n",
        "    \n",
        "    y_ = y_.reshape(len(y_))\n",
        "    return np.eye(n_classes)[np.array(y_, dtype=np.int32)]  # Returns FLOATS\n"
      ],
      "execution_count": 0,
      "outputs": []
    },
    {
      "cell_type": "markdown",
      "metadata": {
        "id": "HRBnPCsMccUX",
        "colab_type": "text"
      },
      "source": [
        "## Let's get serious and build the neural network:"
      ]
    },
    {
      "cell_type": "code",
      "metadata": {
        "id": "s1pAUpo7ccUY",
        "colab_type": "code",
        "outputId": "065964a6-65ce-46d2-8845-09ba2ba3f6ff",
        "colab": {
          "base_uri": "https://localhost:8080/",
          "height": 503
        }
      },
      "source": [
        "\n",
        "# Graph input/output\n",
        "x = tf.placeholder(tf.float32, [None, n_steps, n_input])\n",
        "y = tf.placeholder(tf.float32, [None, n_classes])\n",
        "\n",
        "# Graph weights  隐藏层和输出层的权重和偏差\n",
        "weights = {\n",
        "    'hidden': tf.Variable(tf.random_normal([n_input, n_hidden])), # Hidden layer weights\n",
        "    'out': tf.Variable(tf.random_normal([n_hidden, n_classes], mean=1.0))\n",
        "}\n",
        "biases = {\n",
        "    'hidden': tf.Variable(tf.random_normal([n_hidden])),\n",
        "    'out': tf.Variable(tf.random_normal([n_classes]))\n",
        "}\n",
        "\n",
        "pred = LSTM_RNN(x, weights, biases)\n",
        "\n",
        "# Loss, optimizer and evaluation\n",
        "l2 = lambda_loss_amount * sum(\n",
        "    tf.nn.l2_loss(tf_var) for tf_var in tf.trainable_variables()\n",
        ") # L2 loss prevents this overkill neural network to overfit the data\n",
        "cost = tf.reduce_mean(tf.nn.softmax_cross_entropy_with_logits(labels=y, logits=pred)) + l2 # Softmax loss损失函数均值平方差、交叉熵都用了\n",
        "optimizer = tf.train.AdamOptimizer(learning_rate=learning_rate).minimize(cost) # Adam Optimizer 优化器使用AdamOptimizer\n",
        "\n",
        "correct_pred = tf.equal(tf.argmax(pred,1), tf.argmax(y,1))\n",
        "accuracy = tf.reduce_mean(tf.cast(correct_pred, tf.float32))\n",
        "\n",
        "\n",
        "\n",
        "saver = tf.train.Saver()"
      ],
      "execution_count": 10,
      "outputs": [
        {
          "output_type": "stream",
          "text": [
            "WARNING:tensorflow:From /usr/local/lib/python3.6/dist-packages/tensorflow/python/framework/op_def_library.py:263: colocate_with (from tensorflow.python.framework.ops) is deprecated and will be removed in a future version.\n",
            "Instructions for updating:\n",
            "Colocations handled automatically by placer.\n",
            "\n",
            "WARNING: The TensorFlow contrib module will not be included in TensorFlow 2.0.\n",
            "For more information, please see:\n",
            "  * https://github.com/tensorflow/community/blob/master/rfcs/20180907-contrib-sunset.md\n",
            "  * https://github.com/tensorflow/addons\n",
            "If you depend on functionality not listed there, please file an issue.\n",
            "\n",
            "WARNING:tensorflow:From <ipython-input-9-e3515cb04f70>:22: BasicLSTMCell.__init__ (from tensorflow.python.ops.rnn_cell_impl) is deprecated and will be removed in a future version.\n",
            "Instructions for updating:\n",
            "This class is equivalent as tf.keras.layers.LSTMCell, and will be replaced by that in Tensorflow 2.0.\n",
            "WARNING:tensorflow:From <ipython-input-9-e3515cb04f70>:24: MultiRNNCell.__init__ (from tensorflow.python.ops.rnn_cell_impl) is deprecated and will be removed in a future version.\n",
            "Instructions for updating:\n",
            "This class is equivalent as tf.keras.layers.StackedRNNCells, and will be replaced by that in Tensorflow 2.0.\n",
            "WARNING:tensorflow:From <ipython-input-9-e3515cb04f70>:26: static_rnn (from tensorflow.python.ops.rnn) is deprecated and will be removed in a future version.\n",
            "Instructions for updating:\n",
            "Please use `keras.layers.RNN(cell, unroll=True)`, which is equivalent to this API\n",
            "WARNING:tensorflow:From <ipython-input-10-69b4309d638a>:20: softmax_cross_entropy_with_logits (from tensorflow.python.ops.nn_ops) is deprecated and will be removed in a future version.\n",
            "Instructions for updating:\n",
            "\n",
            "Future major versions of TensorFlow will allow gradients to flow\n",
            "into the labels input on backprop by default.\n",
            "\n",
            "See `tf.nn.softmax_cross_entropy_with_logits_v2`.\n",
            "\n"
          ],
          "name": "stdout"
        }
      ]
    },
    {
      "cell_type": "markdown",
      "metadata": {
        "id": "3Gm-ER2_ccUb",
        "colab_type": "text"
      },
      "source": [
        "## Hooray, now train the neural network:"
      ]
    },
    {
      "cell_type": "code",
      "metadata": {
        "scrolled": true,
        "id": "JJTj8HwfccUb",
        "colab_type": "code",
        "outputId": "aefcd797-8a19-4767-833a-f3f08b34ce34",
        "colab": {
          "base_uri": "https://localhost:8080/",
          "height": 1889
        }
      },
      "source": [
        "# To keep track of training's performance\n",
        "test_losses = []\n",
        "test_accuracies = []\n",
        "train_losses = []\n",
        "train_accuracies = []\n",
        "\n",
        "# Launch the graph\n",
        "sess = tf.InteractiveSession(config=tf.ConfigProto(log_device_placement=True))\n",
        "init = tf.global_variables_initializer()\n",
        "sess.run(init)\n",
        "\n",
        "# Perform Training steps with \"batch_size\" amount of example data at each loop\n",
        "step = 1\n",
        "while step * batch_size <= training_iters:\n",
        "    batch_xs =         extract_batch_size(X_train, step, batch_size)\n",
        "    batch_ys = one_hot(extract_batch_size(y_train, step, batch_size))\n",
        "\n",
        "    # Fit training using batch data 小批量梯度下降\n",
        "    _, loss, acc = sess.run(\n",
        "        [optimizer, cost, accuracy],\n",
        "        feed_dict={\n",
        "            x: batch_xs, \n",
        "            y: batch_ys\n",
        "        }\n",
        "    )\n",
        "    train_losses.append(loss)\n",
        "    train_accuracies.append(acc)\n",
        "    \n",
        "    # Evaluate network only at some steps for faster training: \n",
        "    if (step*batch_size % display_iter == 0) or (step == 1) or (step * batch_size > training_iters):\n",
        "        \n",
        "        # To not spam console, show training accuracy/loss in this \"if\"\n",
        "        print(\"Training iter #\" + str(step*batch_size) + \\\n",
        "              \":   Batch Loss = \" + \"{:.6f}\".format(loss) + \\\n",
        "              \", Accuracy = {}\".format(acc))\n",
        "        \n",
        "        # Evaluation on the test set (no learning made here - just evaluation for diagnosis)\n",
        "        loss, acc = sess.run(\n",
        "            [cost, accuracy], \n",
        "            feed_dict={\n",
        "                x: X_test,\n",
        "                y: one_hot(y_test)\n",
        "            }\n",
        "        )\n",
        "        test_losses.append(loss)\n",
        "        test_accuracies.append(acc)\n",
        "        print(\"PERFORMANCE ON TEST SET:                                             \" + \\\n",
        "              \"Batch Loss = {}\".format(loss) + \\\n",
        "              \", Accuracy = {}\".format(acc))\n",
        "\n",
        "    step += 1\n",
        "\n",
        "print(\"Optimization Finished!\")\n",
        "\n",
        "# Accuracy for test data\n",
        "\n",
        "one_hot_predictions, accuracy, final_loss = sess.run(\n",
        "    [pred, accuracy, cost],\n",
        "    feed_dict={\n",
        "        x: X_test,\n",
        "        y: one_hot(y_test)\n",
        "    }\n",
        ")\n",
        "\n",
        "test_losses.append(final_loss)\n",
        "test_accuracies.append(accuracy)\n",
        "\n",
        "print(\"FINAL RESULT: \" + \\\n",
        "      \"Batch Loss = {}\".format(final_loss) + \\\n",
        "      \", Accuracy = {}\".format(accuracy))"
      ],
      "execution_count": 0,
      "outputs": [
        {
          "output_type": "stream",
          "text": [
            "Training iter #1500:   Batch Loss = 11.464226, Accuracy = 0.25066667795181274\n",
            "PERFORMANCE ON TEST SET:                                             Batch Loss = 34.94641876220703, Accuracy = 0.2090284526348114\n",
            "Training iter #30000:   Batch Loss = 7.675386, Accuracy = 0.5820000171661377\n",
            "PERFORMANCE ON TEST SET:                                             Batch Loss = 8.526432037353516, Accuracy = 0.33366045355796814\n",
            "Training iter #60000:   Batch Loss = 6.969191, Accuracy = 0.6626666784286499\n",
            "PERFORMANCE ON TEST SET:                                             Batch Loss = 7.895216941833496, Accuracy = 0.40235525369644165\n",
            "Training iter #90000:   Batch Loss = 6.680167, Accuracy = 0.6573333144187927\n",
            "PERFORMANCE ON TEST SET:                                             Batch Loss = 8.2760009765625, Accuracy = 0.30323848128318787\n",
            "Training iter #120000:   Batch Loss = 6.299731, Accuracy = 0.781333327293396\n",
            "PERFORMANCE ON TEST SET:                                             Batch Loss = 9.268102645874023, Accuracy = 0.24926398694515228\n",
            "Training iter #150000:   Batch Loss = 5.997536, Accuracy = 0.7926666736602783\n",
            "PERFORMANCE ON TEST SET:                                             Batch Loss = 8.408510208129883, Accuracy = 0.32580962777137756\n",
            "Training iter #180000:   Batch Loss = 5.748592, Accuracy = 0.843999981880188\n",
            "PERFORMANCE ON TEST SET:                                             Batch Loss = 7.6688385009765625, Accuracy = 0.2090284526348114\n",
            "Training iter #210000:   Batch Loss = 5.517516, Accuracy = 0.8573333621025085\n",
            "PERFORMANCE ON TEST SET:                                             Batch Loss = 7.435876846313477, Accuracy = 0.3964671194553375\n",
            "Training iter #240000:   Batch Loss = 5.332431, Accuracy = 0.8646666407585144\n",
            "PERFORMANCE ON TEST SET:                                             Batch Loss = 7.411718368530273, Accuracy = 0.3052011728286743\n",
            "Training iter #270000:   Batch Loss = 5.253791, Accuracy = 0.8273333311080933\n",
            "PERFORMANCE ON TEST SET:                                             Batch Loss = 7.277341365814209, Accuracy = 0.3680078387260437\n",
            "Training iter #300000:   Batch Loss = 5.111180, Accuracy = 0.8619999885559082\n",
            "PERFORMANCE ON TEST SET:                                             Batch Loss = 7.887234687805176, Accuracy = 0.2865554392337799\n",
            "Training iter #330000:   Batch Loss = 4.740471, Accuracy = 0.9319999814033508\n",
            "PERFORMANCE ON TEST SET:                                             Batch Loss = 7.129922866821289, Accuracy = 0.4043179452419281\n",
            "Training iter #360000:   Batch Loss = 4.725623, Accuracy = 0.8653333187103271\n",
            "PERFORMANCE ON TEST SET:                                             Batch Loss = 7.260639667510986, Accuracy = 0.37487733364105225\n",
            "Training iter #390000:   Batch Loss = 4.464729, Accuracy = 0.9073333144187927\n",
            "PERFORMANCE ON TEST SET:                                             Batch Loss = 6.793631553649902, Accuracy = 0.2688910663127899\n",
            "Training iter #420000:   Batch Loss = 4.473095, Accuracy = 0.8813333511352539\n",
            "PERFORMANCE ON TEST SET:                                             Batch Loss = 7.078400135040283, Accuracy = 0.4219823479652405\n",
            "Training iter #450000:   Batch Loss = 4.179150, Accuracy = 0.9660000205039978\n",
            "PERFORMANCE ON TEST SET:                                             Batch Loss = 8.222990989685059, Accuracy = 0.2041216939687729\n",
            "Training iter #480000:   Batch Loss = 4.423147, Accuracy = 0.8366666436195374\n",
            "PERFORMANCE ON TEST SET:                                             Batch Loss = 6.062622547149658, Accuracy = 0.40333661437034607\n",
            "Training iter #510000:   Batch Loss = 3.986947, Accuracy = 0.9666666388511658\n",
            "PERFORMANCE ON TEST SET:                                             Batch Loss = 7.02126932144165, Accuracy = 0.27870461344718933\n",
            "Training iter #540000:   Batch Loss = 4.004301, Accuracy = 0.9113333225250244\n",
            "PERFORMANCE ON TEST SET:                                             Batch Loss = 6.798140525817871, Accuracy = 0.3738959729671478\n",
            "Training iter #570000:   Batch Loss = 3.744844, Accuracy = 0.9853333234786987\n",
            "PERFORMANCE ON TEST SET:                                             Batch Loss = 7.080620765686035, Accuracy = 0.2630029320716858\n",
            "Training iter #600000:   Batch Loss = 3.702435, Accuracy = 0.9586666822433472\n",
            "PERFORMANCE ON TEST SET:                                             Batch Loss = 6.760093688964844, Accuracy = 0.4092247188091278\n",
            "Training iter #630000:   Batch Loss = 3.558747, Accuracy = 0.9793333411216736\n",
            "PERFORMANCE ON TEST SET:                                             Batch Loss = 6.959941864013672, Accuracy = 0.27477920055389404\n",
            "Training iter #660000:   Batch Loss = 3.453546, Accuracy = 0.9800000190734863\n",
            "PERFORMANCE ON TEST SET:                                             Batch Loss = 6.817462921142578, Accuracy = 0.39744848012924194\n",
            "Training iter #690000:   Batch Loss = 3.463647, Accuracy = 0.9480000138282776\n",
            "PERFORMANCE ON TEST SET:                                             Batch Loss = 6.292634963989258, Accuracy = 0.33954858779907227\n",
            "Training iter #720000:   Batch Loss = 3.433942, Accuracy = 0.8960000276565552\n",
            "PERFORMANCE ON TEST SET:                                             Batch Loss = 6.115562438964844, Accuracy = 0.4102060794830322\n",
            "Training iter #750000:   Batch Loss = 3.232998, Accuracy = 0.9586666822433472\n",
            "PERFORMANCE ON TEST SET:                                             Batch Loss = 6.51250696182251, Accuracy = 0.2767418920993805\n",
            "Training iter #780000:   Batch Loss = 3.237360, Accuracy = 0.903333306312561\n",
            "PERFORMANCE ON TEST SET:                                             Batch Loss = 6.376070022583008, Accuracy = 0.4190382659435272\n",
            "Training iter #810000:   Batch Loss = 3.092858, Accuracy = 0.9380000233650208\n",
            "PERFORMANCE ON TEST SET:                                             Batch Loss = 6.192196846008301, Accuracy = 0.3218842148780823\n",
            "Training iter #840000:   Batch Loss = 3.066485, Accuracy = 0.9079999923706055\n",
            "PERFORMANCE ON TEST SET:                                             Batch Loss = 6.69588565826416, Accuracy = 0.37095192074775696\n",
            "Training iter #870000:   Batch Loss = 2.944675, Accuracy = 0.937333345413208\n",
            "PERFORMANCE ON TEST SET:                                             Batch Loss = 6.587308883666992, Accuracy = 0.3719332814216614\n",
            "Training iter #900000:   Batch Loss = 2.902603, Accuracy = 0.9173333048820496\n",
            "PERFORMANCE ON TEST SET:                                             Batch Loss = 6.4738078117370605, Accuracy = 0.3581943213939667\n",
            "Training iter #930000:   Batch Loss = 3.381402, Accuracy = 0.7480000257492065\n",
            "PERFORMANCE ON TEST SET:                                             Batch Loss = 5.921350479125977, Accuracy = 0.24730128049850464\n",
            "Training iter #960000:   Batch Loss = 3.053580, Accuracy = 0.8613333106040955\n",
            "PERFORMANCE ON TEST SET:                                             Batch Loss = 5.202536582946777, Accuracy = 0.3464180529117584\n",
            "Training iter #990000:   Batch Loss = 2.867018, Accuracy = 0.875333309173584\n",
            "PERFORMANCE ON TEST SET:                                             Batch Loss = 5.803703308105469, Accuracy = 0.33366045355796814\n",
            "Training iter #1020000:   Batch Loss = 2.597937, Accuracy = 0.987333357334137\n",
            "PERFORMANCE ON TEST SET:                                             Batch Loss = 5.598056793212891, Accuracy = 0.3640824258327484\n",
            "Training iter #1050000:   Batch Loss = 2.745796, Accuracy = 0.8793333172798157\n",
            "PERFORMANCE ON TEST SET:                                             Batch Loss = 5.484772682189941, Accuracy = 0.36506378650665283\n",
            "Training iter #1080000:   Batch Loss = 2.511688, Accuracy = 0.9819999933242798\n",
            "PERFORMANCE ON TEST SET:                                             Batch Loss = 6.202403545379639, Accuracy = 0.29342493414878845\n",
            "Training iter #1110000:   Batch Loss = 2.593554, Accuracy = 0.9146666526794434\n",
            "PERFORMANCE ON TEST SET:                                             Batch Loss = 5.80323600769043, Accuracy = 0.3964671194553375\n",
            "Training iter #1140000:   Batch Loss = 2.393842, Accuracy = 0.9806666374206543\n",
            "PERFORMANCE ON TEST SET:                                             Batch Loss = 5.591939449310303, Accuracy = 0.327772319316864\n",
            "Training iter #1170000:   Batch Loss = 2.419676, Accuracy = 0.9433333277702332\n",
            "PERFORMANCE ON TEST SET:                                             Batch Loss = 5.924659729003906, Accuracy = 0.4052993059158325\n",
            "Training iter #1200000:   Batch Loss = 2.278521, Accuracy = 0.987333357334137\n",
            "PERFORMANCE ON TEST SET:                                             Batch Loss = 6.177730560302734, Accuracy = 0.31599608063697815\n",
            "Training iter #1230000:   Batch Loss = 2.216361, Accuracy = 0.9866666793823242\n",
            "PERFORMANCE ON TEST SET:                                             Batch Loss = 5.9775543212890625, Accuracy = 0.36506378650665283\n",
            "Training iter #1260000:   Batch Loss = 2.187198, Accuracy = 0.9593333601951599\n",
            "PERFORMANCE ON TEST SET:                                             Batch Loss = 6.222884178161621, Accuracy = 0.30225712060928345\n",
            "Training iter #1290000:   Batch Loss = 2.202305, Accuracy = 0.9126666784286499\n",
            "PERFORMANCE ON TEST SET:                                             Batch Loss = 5.855782508850098, Accuracy = 0.39744848012924194\n",
            "Training iter #1320000:   Batch Loss = 2.092622, Accuracy = 0.9559999704360962\n",
            "PERFORMANCE ON TEST SET:                                             Batch Loss = 6.157498359680176, Accuracy = 0.28851816058158875\n",
            "Training iter #1350000:   Batch Loss = 2.111610, Accuracy = 0.9266666769981384\n",
            "PERFORMANCE ON TEST SET:                                             Batch Loss = 5.70404577255249, Accuracy = 0.36211973428726196\n",
            "Training iter #1380000:   Batch Loss = 2.026596, Accuracy = 0.949999988079071\n",
            "PERFORMANCE ON TEST SET:                                             Batch Loss = 5.798150539398193, Accuracy = 0.2875367999076843\n",
            "Training iter #1410000:   Batch Loss = 2.066383, Accuracy = 0.9026666879653931\n",
            "PERFORMANCE ON TEST SET:                                             Batch Loss = 4.876591682434082, Accuracy = 0.32973504066467285\n",
            "Training iter #1440000:   Batch Loss = 1.962239, Accuracy = 0.9513333439826965\n",
            "PERFORMANCE ON TEST SET:                                             Batch Loss = 5.098443984985352, Accuracy = 0.36702650785446167\n",
            "Training iter #1470000:   Batch Loss = 1.926897, Accuracy = 0.9266666769981384\n",
            "PERFORMANCE ON TEST SET:                                             Batch Loss = 5.379860877990723, Accuracy = 0.3640824258327484\n",
            "Training iter #1500000:   Batch Loss = 1.900506, Accuracy = 0.9160000085830688\n",
            "PERFORMANCE ON TEST SET:                                             Batch Loss = 5.698716163635254, Accuracy = 0.33366045355796814\n",
            "Training iter #1530000:   Batch Loss = 1.824026, Accuracy = 0.9246666431427002\n",
            "PERFORMANCE ON TEST SET:                                             Batch Loss = 5.58767557144165, Accuracy = 0.36997056007385254\n"
          ],
          "name": "stdout"
        }
      ]
    },
    {
      "cell_type": "markdown",
      "metadata": {
        "id": "YFWP3xdIccUe",
        "colab_type": "text"
      },
      "source": [
        "## Training is good, but having visual insight is even better:\n",
        "\n",
        "Okay, let's plot this simply in the notebook for now."
      ]
    },
    {
      "cell_type": "code",
      "metadata": {
        "id": "564DSEhuccUe",
        "colab_type": "code",
        "colab": {}
      },
      "source": [
        "# (Inline plots: )\n",
        "%matplotlib inline\n",
        "\n",
        "font = {\n",
        "    'family' : 'Bitstream Vera Sans',\n",
        "    'weight' : 'bold',\n",
        "    'size'   : 18\n",
        "}\n",
        "matplotlib.rc('font', **font)\n",
        "\n",
        "width = 12\n",
        "height = 12\n",
        "plt.figure(figsize=(width, height))\n",
        "\n",
        "indep_train_axis = np.array(range(batch_size, (len(train_losses)+1)*batch_size, batch_size))\n",
        "plt.plot(indep_train_axis, np.array(train_losses),     \"b--\", label=\"Train losses\")\n",
        "plt.plot(indep_train_axis, np.array(train_accuracies), \"g--\", label=\"Train accuracies\")\n",
        "\n",
        "indep_test_axis = np.append(\n",
        "    np.array(range(batch_size, len(test_losses)*display_iter, display_iter)[:-1]),\n",
        "    [training_iters]\n",
        ")\n",
        "plt.plot(indep_test_axis, np.array(test_losses),     \"b-\", label=\"Test losses\")\n",
        "plt.plot(indep_test_axis, np.array(test_accuracies), \"g-\", label=\"Test accuracies\")\n",
        "\n",
        "plt.title(\"Training session's progress over iterations\")\n",
        "plt.legend(loc='upper right', shadow=True)\n",
        "plt.ylabel('Training Progress (Loss or Accuracy values)')\n",
        "plt.xlabel('Training iteration')\n",
        "\n",
        "plt.show()"
      ],
      "execution_count": 0,
      "outputs": []
    },
    {
      "cell_type": "markdown",
      "metadata": {
        "id": "QKGSfQ_YccUg",
        "colab_type": "text"
      },
      "source": [
        "## And finally, the multi-class confusion matrix and metrics!"
      ]
    },
    {
      "cell_type": "code",
      "metadata": {
        "id": "jqV045PYccUh",
        "colab_type": "code",
        "colab": {}
      },
      "source": [
        "# Results\n",
        "\n",
        "predictions = one_hot_predictions.argmax(1)\n",
        "\n",
        "print(\"Testing Accuracy: {}%\".format(100*accuracy))\n",
        "\n",
        "print(\"\")\n",
        "print(\"Precision: {}%\".format(100*metrics.precision_score(y_test, predictions, average=\"weighted\")))\n",
        "print(\"Recall: {}%\".format(100*metrics.recall_score(y_test, predictions, average=\"weighted\")))\n",
        "print(\"f1_score: {}%\".format(100*metrics.f1_score(y_test, predictions, average=\"weighted\")))\n",
        "\n",
        "print(\"\")\n",
        "print(\"Confusion Matrix:\")\n",
        "confusion_matrix = metrics.confusion_matrix(y_test, predictions)\n",
        "print(confusion_matrix)\n",
        "normalised_confusion_matrix = np.array(confusion_matrix, dtype=np.float32)/np.sum(confusion_matrix)*100\n",
        "\n",
        "print(\"\")\n",
        "print(\"Confusion matrix (normalised to % of total test data):\")\n",
        "print(normalised_confusion_matrix)\n",
        "print(\"Note: training and testing data is not equally distributed amongst classes, \")\n",
        "print(\"so it is normal that more than a 6th of the data is correctly classifier in the last category.\")\n",
        "\n",
        "# Plot Results: \n",
        "width = 12\n",
        "height = 12\n",
        "plt.figure(figsize=(width, height))\n",
        "plt.imshow(\n",
        "    normalised_confusion_matrix, \n",
        "    interpolation='nearest', \n",
        "    cmap=plt.cm.rainbow\n",
        ")\n",
        "plt.title(\"Confusion matrix \\n(normalised to % of total test data)\")\n",
        "plt.colorbar()\n",
        "tick_marks = np.arange(n_classes)\n",
        "plt.xticks(tick_marks, LABELS, rotation=90)\n",
        "plt.yticks(tick_marks, LABELS)\n",
        "plt.tight_layout()\n",
        "plt.ylabel('True label')\n",
        "plt.xlabel('Predicted label')\n",
        "plt.show()"
      ],
      "execution_count": 0,
      "outputs": []
    },
    {
      "cell_type": "code",
      "metadata": {
        "id": "C_i9ZLbfccUk",
        "colab_type": "code",
        "colab": {}
      },
      "source": [
        "predict = sess.run(\n",
        "    [pred],\n",
        "    feed_dict={\n",
        "        x: X_test[0:2000]\n",
        "    }\n",
        ")\n",
        "for row in np.array(predict)[0]:\n",
        "    print(list(row).index(max(list(row))) + 1)\n",
        "\n",
        "\n"
      ],
      "execution_count": 0,
      "outputs": []
    },
    {
      "cell_type": "code",
      "metadata": {
        "id": "ipTwUUxjccUm",
        "colab_type": "code",
        "colab": {}
      },
      "source": [
        "saver.save(sess, \"save_lstm/model.ckpt\")\n",
        "print(1111)"
      ],
      "execution_count": 0,
      "outputs": []
    },
    {
      "cell_type": "code",
      "metadata": {
        "id": "tgB-KPFOccUo",
        "colab_type": "code",
        "colab": {}
      },
      "source": [
        "sess.close()"
      ],
      "execution_count": 0,
      "outputs": []
    },
    {
      "cell_type": "markdown",
      "metadata": {
        "id": "gQQRmucfccUq",
        "colab_type": "text"
      },
      "source": [
        "## Conclusion\n",
        "\n",
        "Outstandingly, **the final accuracy is of 91%**! And it can peak to values such as 92.73%, at some moments of luck during the training, depending on how the neural network's weights got initialized at the start of the training, randomly. \n",
        "\n",
        "This means that the neural networks is almost always able to correctly identify the movement type! Remember, the phone is attached on the waist and each series to classify has just a 128 sample window of two internal sensors (a.k.a. 2.56 seconds at 50 FPS), so it amazes me how those predictions are extremely accurate given this small window of context and raw data. I've validated and re-validated that there is no important bug, and the community used and tried this code a lot. (Note: be sure to report something in the issue tab if you find bugs, otherwise [Quora](https://www.quora.com/), [StackOverflow](https://stackoverflow.com/questions/tagged/tensorflow?sort=votes&pageSize=50), and other [StackExchange](https://stackexchange.com/sites#science) sites are the places for asking questions.)\n",
        "\n",
        "I specially did not expect such good results for guessing between the labels \"SITTING\" and \"STANDING\". Those are seemingly almost the same thing from the point of view of a device placed at waist level according to how the dataset was originally gathered. Thought, it is still possible to see a little cluster on the matrix between those classes, which drifts away just a bit from the identity. This is great.\n",
        "\n",
        "It is also possible to see that there was a slight difficulty in doing the difference between \"WALKING\", \"WALKING_UPSTAIRS\" and \"WALKING_DOWNSTAIRS\". Obviously, those activities are quite similar in terms of movements. \n",
        "\n",
        "I also tried my code without the gyroscope, using only the 3D accelerometer's 6 features (and not changing the training hyperparameters), and got an accuracy of 87%. In general, gyroscopes consumes more power than accelerometers, so it is preferable to turn them off. \n",
        "\n",
        "\n",
        "## Improvements\n",
        "\n",
        "In [another open-source repository of mine](https://github.com/guillaume-chevalier/HAR-stacked-residual-bidir-LSTMs), the accuracy is pushed up to nearly 94% using a special deep LSTM architecture which combines the concepts of bidirectional RNNs, residual connections, and stacked cells. This architecture is also tested on another similar activity dataset. It resembles the nice architecture used in \"[Google’s Neural Machine Translation System: Bridging the Gap between Human and Machine Translation](https://arxiv.org/pdf/1609.08144.pdf)\", without an attention mechanism, and with just the encoder part - as a \"many to one\" architecture instead of a \"many to many\" to be adapted to the Human Activity Recognition (HAR) problem. I also worked more on the problem and came up with the [LARNN](https://github.com/guillaume-chevalier/Linear-Attention-Recurrent-Neural-Network), however it's complicated for just a little gain. Thus the current, original activity recognition project is simply better to use for its outstanding simplicity. \n",
        "\n",
        "If you want to learn more about deep learning, I have also built a list of the learning ressources for deep learning which have revealed to be the most useful to me [here](https://github.com/guillaume-chevalier/Awesome-Deep-Learning-Resources). \n",
        "\n",
        "\n",
        "## References\n",
        "\n",
        "The [dataset](https://archive.ics.uci.edu/ml/datasets/Human+Activity+Recognition+Using+Smartphones) can be found on the UCI Machine Learning Repository: \n",
        "\n",
        "> Davide Anguita, Alessandro Ghio, Luca Oneto, Xavier Parra and Jorge L. Reyes-Ortiz. A Public Domain Dataset for Human Activity Recognition Using Smartphones. 21th European Symposium on Artificial Neural Networks, Computational Intelligence and Machine Learning, ESANN 2013. Bruges, Belgium 24-26 April 2013.\n",
        "\n",
        "The RNN image for \"many-to-one\" is taken from Karpathy's post: \n",
        "\n",
        "> Andrej Karpathy, The Unreasonable Effectiveness of Recurrent Neural Networks, 2015, \n",
        "> http://karpathy.github.io/2015/05/21/rnn-effectiveness/\n",
        "\n",
        "## Citation\n",
        "\n",
        "Copyright (c) 2016 Guillaume Chevalier. To cite my code, you can point to the URL of the GitHub repository, for example: \n",
        "\n",
        "> Guillaume Chevalier, LSTMs for Human Activity Recognition, 2016, \n",
        "> https://github.com/guillaume-chevalier/LSTM-Human-Activity-Recognition\n",
        "\n",
        "My code is available for free and even for private usage for anyone under the [MIT License](https://github.com/guillaume-chevalier/LSTM-Human-Activity-Recognition/blob/master/LICENSE), however I ask to cite for using the code. \n",
        "\n",
        "## Extra links\n",
        "\n",
        "### Connect with me\n",
        "\n",
        "- [LinkedIn](https://ca.linkedin.com/in/chevalierg)\n",
        "- [Twitter](https://twitter.com/guillaume_che)\n",
        "- [GitHub](https://github.com/guillaume-chevalier/)\n",
        "- [Quora](https://www.quora.com/profile/Guillaume-Chevalier-2)\n",
        "- [YouTube](https://www.youtube.com/c/GuillaumeChevalier)\n",
        "- [Dev/Consulting](http://www.neuraxio.com/en/)\n",
        "\n",
        "### Liked this project? Did it help you? Leave a [star](https://github.com/guillaume-chevalier/LSTM-Human-Activity-Recognition/stargazers), [fork](https://github.com/guillaume-chevalier/LSTM-Human-Activity-Recognition/network/members) and share the love!\n",
        "\n",
        "This activity recognition project has been seen in:\n",
        "\n",
        "- [Hacker News 1st page](https://news.ycombinator.com/item?id=13049143)\n",
        "- [Awesome TensorFlow](https://github.com/jtoy/awesome-tensorflow#tutorials)\n",
        "- [TensorFlow World](https://github.com/astorfi/TensorFlow-World#some-useful-tutorials)\n",
        "- And more.\n",
        "\n",
        "---\n"
      ]
    },
    {
      "cell_type": "code",
      "metadata": {
        "scrolled": true,
        "id": "wijktc9KccUr",
        "colab_type": "code",
        "colab": {}
      },
      "source": [
        "# Let's convert this notebook to a README automatically for the GitHub project's title page:\n",
        "!jupyter nbconvert --to markdown LSTM.ipynb\n",
        "!mv LSTM.md README.md"
      ],
      "execution_count": 0,
      "outputs": []
    }
  ]
}